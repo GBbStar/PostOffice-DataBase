{
 "cells": [
  {
   "cell_type": "code",
   "execution_count": 32,
   "metadata": {
    "scrolled": true
   },
   "outputs": [],
   "source": [
    "import pandas as pd \n",
    "import numpy as np\n",
    "\n",
    "data=pd.read_excel('지번범위.xlsx')\n",
    "newdata=data[['우편번호','시도','시군구','읍면동','리명']]\n",
    "newdata=newdata.dropna()\n",
    "\n",
    "a=newdata.values\n",
    "\n",
    "np.savetxt('please.txt',a,fmt='%s',delimiter='\\t',header=\"우편번호\\시도\\시군구\\읍면동\\리명\")\n",
    "        \n",
    "            "
   ]
  },
  {
   "cell_type": "code",
   "execution_count": null,
   "metadata": {},
   "outputs": [],
   "source": []
  }
 ],
 "metadata": {
  "kernelspec": {
   "display_name": "Python 3",
   "language": "python",
   "name": "python3"
  },
  "language_info": {
   "codemirror_mode": {
    "name": "ipython",
    "version": 3
   },
   "file_extension": ".py",
   "mimetype": "text/x-python",
   "name": "python",
   "nbconvert_exporter": "python",
   "pygments_lexer": "ipython3",
   "version": "3.7.0"
  }
 },
 "nbformat": 4,
 "nbformat_minor": 2
}
